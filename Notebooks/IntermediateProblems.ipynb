{
 "cells": [
  {
   "cell_type": "markdown",
   "metadata": {},
   "source": [
    "# Intermediate Problems\n",
    "\n",
    "## MyRange and LinSpace Problem\n",
    "\n",
    "###### Part 1\n",
    "\n",
    "Let's create our own implementation of the range type. The `Range` type is what you get from `1:2:20`. It's form is `start:step:stop`. If you know `start`, `step`, and `stop`, how do you calculate the `i`th value? Create a type `MyRange` which stores `start`, `step`, and `stop`. Can you create a function `_MyRange(a,i)` which for `a` being a `MyRange`, it returns what `a[i]` should be? After getting this correct, use the [Julia array interface](https://docs.julialang.org/en/stable/manual/interfaces/#Indexing-1) in order to define the function for the `a[i]` syntax on your type.\n",
    "\n",
    "######  Part 2\n",
    "\n",
    "A LinSpace object is a lazy representation of `N` values from `start` to `stop`. Use the Array interface to implement a lazy version of the LinSpace. Test against `range(start,stop=stop,length=N)`.\n",
    "\n",
    "http://ucidatascienceinitiative.github.io/IntroToJulia/Html/ArrayIteratorInterfaces\n",
    "\n",
    "(Note, Base's range type has extra accuracy enhancing changes. Just do the \"simple\" implementation\")\n",
    "\n",
    "##### Part 3\n",
    "\n",
    "Check out the call overloading notebook:\n",
    "\n",
    "http://ucidatascienceinitiative.github.io/IntroToJulia/Html/CallOverloading\n",
    "\n",
    "Overload the call on the UnitStepRange to give an interpolated value at intermediate points, i.e. if `a=1:2:10`, then `a(1.5)=2`.\n",
    "\n",
    "#### Part 4\n",
    "\n",
    "Do your implementations obey dimensional analysis? Try using the package `Unitful` to build arrays of numbers with units (i.e. an array of numbers who have values of Newtons), and see if you can make your LinSpace not give errors."
   ]
  },
  {
   "cell_type": "markdown",
   "metadata": {},
   "source": [
    "## Operator Problem\n",
    "\n",
    "In mathematics, a matrix is known to be a linear operator. In many cases, this can have huge performance advantages because, if you  know a function which \"acts like a matrix\" but does not form the matrix itself, you can save the time that it takes to allocate the matrix (sometimes the matrix may not fit in memory!)\n",
    "\n",
    "Recall the Strang matrix \n",
    "\n",
    "$$ \\left[\\begin{array}{ccccc}\n",
    "-2 & 1\\\\\n",
    "1 & -2 & 1\\\\\n",
    " & \\ddots & \\ddots & \\ddots\\\\\n",
    " &  & \\ddots & \\ddots & 1\\\\\n",
    " &  &  & 1 & -2\n",
    "\\end{array}\\right] $$\n",
    "\n",
    "Define a type `StrangMatrix` and define a dispatch such that `A*x` acts like a Strang matrix on a vector. \n",
    "\n",
    "### Advanced Bonus\n",
    "\n",
    "Iterative solvers solve `Ax=b` and only require the definition of matrix multiplication. Thus utilize IterativeSolvers.jl to solve `Ax=b` for `b=rand(100)` using your lazy matrix type. Hint: you will need to define `mul!` from `LinearAlgebra` (standard library). You will also need to define a different version of your Strang matrix which holds a size and has `Base.eltype` defined."
   ]
  },
  {
   "cell_type": "markdown",
   "metadata": {},
   "source": [
    "## Regression Problem"
   ]
  },
  {
   "cell_type": "code",
   "execution_count": null,
   "metadata": {},
   "outputs": [],
   "source": [
    "#### Prepare Data For Regression Problem\n",
    "\n",
    "X = rand(1000, 3)               # feature matrix\n",
    "a0 = rand(3)                    # ground truths\n",
    "y = X * a0 + 0.1 * randn(1000);  # generate response\n",
    "\n",
    "# Data For Regression Problem Part 2\n",
    "X = rand(100);\n",
    "y = 2X  + 0.1 * randn(100);"
   ]
  },
  {
   "cell_type": "markdown",
   "metadata": {},
   "source": [
    "Given an Nx3 array of data (`randn(N,3)`) and a Nx1 array of outcomes, produce the data matrix `X` which appends a column of 1's to the front of the data matrix, and solve for the 4x1 array `β` via `βX = b` using `qrfact`, or `\\`, or [the definition of the OLS estimator](https://en.wikipedia.org/wiki/Ordinary_least_squares#Estimation). (Note: This is linear regression).\n",
    "\n",
    "Compare your results to that of using `llsq` from `MultivariateStats.jl` (note: you need to go find the documentation to find out how to use this!). Compare your results to that of using ordinary least squares regression from `GLM.jl`.\n",
    "\n",
    "#### Regression Problem Part 2\n",
    "\n",
    "Using your OLS estimator or one of the aforementioned packages, solve for the regression line using the (X,y) data above. Plot the (X,y) scatter plot using `scatter!` from Plots.jl. Add the regression line using `abline!`. Add a title saying \"Regression Plot on Fake Data\", and label the x and y axis."
   ]
  },
  {
   "cell_type": "markdown",
   "metadata": {},
   "source": [
    "## Type Hierarchy Problem\n",
    "\n",
    "Make a function `person_info(x)` where, if `x` is a any type of person, print their name. However, if `x` is a student, print their name and their grade. Make a new type which is a graduate student, and have it print their name and grade as well. If `x` is anything else, throw an error. Do not use branching (`if`), use multiple dispatch to solve the problem! \n",
    "\n",
    "Note that in order to do this you will need to re-structure the type hierarchy. Make an AbstractPerson and AbstractStudent type, define the subclassing structure, and write dispatches on these abstract types. Note that you cannot define subclasses of concrete types!\n",
    "\n",
    "(Not only is the multiple-dispatch way more Julian, we will see later that it also has a lot of performance enhancements due to how it interacts with the compiler).\n"
   ]
  },
  {
   "cell_type": "markdown",
   "metadata": {},
   "source": [
    "\n",
    "## Distribution Quantile Problem (From Josh Day)\n",
    "\n",
    "To find the quantile of a number `q` in a distribution, one can use a Newton method \n",
    "\n",
    "$$ \\theta_{n+1} = \\theta_{n} - \\frac{cdf(\\theta)-q}{pdf(\\theta)} $$\n",
    "\n",
    "to have $\\theta_{n} \\rightarrow$ the value of for the `q`th quantile. Use multiple dispatch to write a generic algorithm for which calculates the `q`th quantile of any `UnivariateDistribution` in Distributions.jl, and test your result against the `quantile(d::UnivariateDistribution,q::Number` function.\n",
    "\n",
    "Hint: Use $\\theta_{0} = $ mean of the distribution"
   ]
  }
 ],
 "metadata": {
  "anaconda-cloud": {},
  "kernelspec": {
   "display_name": "Julia 1.0.0",
   "language": "julia",
   "name": "julia-1.0"
  },
  "language_info": {
   "file_extension": ".jl",
   "mimetype": "application/julia",
   "name": "julia",
   "version": "1.0.0"
  }
 },
 "nbformat": 4,
 "nbformat_minor": 2
}
